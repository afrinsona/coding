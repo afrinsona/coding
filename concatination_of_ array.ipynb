{
  "nbformat": 4,
  "nbformat_minor": 0,
  "metadata": {
    "colab": {
      "provenance": [],
      "authorship_tag": "ABX9TyPaO/xBX2gMhsgvJ4Vk0Z5N",
      "include_colab_link": true
    },
    "kernelspec": {
      "name": "python3",
      "display_name": "Python 3"
    },
    "language_info": {
      "name": "python"
    }
  },
  "cells": [
    {
      "cell_type": "markdown",
      "metadata": {
        "id": "view-in-github",
        "colab_type": "text"
      },
      "source": [
        "<a href=\"https://colab.research.google.com/github/afrinsona/coding/blob/master/concatination_of_%20array.ipynb\" target=\"_parent\"><img src=\"https://colab.research.google.com/assets/colab-badge.svg\" alt=\"Open In Colab\"/></a>"
      ]
    },
    {
      "cell_type": "code",
      "execution_count": null,
      "metadata": {
        "id": "Q65ROOi_vU81"
      },
      "outputs": [],
      "source": [
        "class Solution:\n",
        "    def getConcatenation(self, nums: List[int]) -> List[int]:\n",
        "        return nums+nums\n",
        ""
      ]
    }
  ]
}