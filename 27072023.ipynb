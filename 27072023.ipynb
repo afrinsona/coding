{
  "nbformat": 4,
  "nbformat_minor": 0,
  "metadata": {
    "colab": {
      "provenance": [],
      "authorship_tag": "ABX9TyOi/BCmhasOKJj2oVqezmo+"
    },
    "kernelspec": {
      "name": "python3",
      "display_name": "Python 3"
    },
    "language_info": {
      "name": "python"
    }
  },
  "cells": [
    {
      "cell_type": "code",
      "execution_count": null,
      "metadata": {
        "id": "P5kj8xBOeUxn"
      },
      "outputs": [],
      "source": []
    },
    {
      "cell_type": "code",
      "source": [
        "n=[9,81,72]\n",
        "\n",
        "s=\"\"\n",
        "\n",
        "for i in n:\n",
        "\n",
        "    s=s+str(i)\n",
        "\n",
        "    res=[]\n",
        "\n",
        "for i in s:\n",
        "\n",
        "res.append(int(i))\n",
        "\n",
        "print(res)"
      ],
      "metadata": {
        "id": "gb85JMdXeac7"
      },
      "execution_count": null,
      "outputs": []
    }
  ]
}